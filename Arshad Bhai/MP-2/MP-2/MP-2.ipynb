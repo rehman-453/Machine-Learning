{
 "cells": [
  {
   "cell_type": "code",
   "execution_count": 1,
   "metadata": {},
   "outputs": [],
   "source": [
    "import numpy as np\n",
    "import pandas as pd\n",
    "import matplotlib.pyplot as plt\n",
    "import seaborn as sns\n",
    "%matplotlib inline"
   ]
  },
  {
   "cell_type": "code",
   "execution_count": 2,
   "metadata": {},
   "outputs": [],
   "source": [
    "#Import dataset\n",
    "\n",
    "#df.head()"
   ]
  },
  {
   "cell_type": "code",
   "execution_count": 3,
   "metadata": {},
   "outputs": [],
   "source": [
    "#Drop data attribute form the dataset"
   ]
  },
  {
   "cell_type": "code",
   "execution_count": 4,
   "metadata": {},
   "outputs": [],
   "source": [
    "#Describe the dataset"
   ]
  },
  {
   "cell_type": "code",
   "execution_count": 5,
   "metadata": {},
   "outputs": [],
   "source": [
    "#Show the correlation of the dataset"
   ]
  },
  {
   "cell_type": "code",
   "execution_count": 6,
   "metadata": {},
   "outputs": [],
   "source": [
    "#Show the correlation in heatmap with anotations\n",
    "#plt.title('Correlation between fearures')"
   ]
  },
  {
   "cell_type": "code",
   "execution_count": 8,
   "metadata": {},
   "outputs": [],
   "source": [
    "# X = df.iloc[:, :-1].values\n",
    "# y = df.iloc[:, -1].values"
   ]
  },
  {
   "cell_type": "code",
   "execution_count": 8,
   "metadata": {},
   "outputs": [],
   "source": [
    "#Split the data into 70/30 (training / testing)\n",
    "from sklearn.model_selection import train_test_split\n",
    "X_train, X_test, y_train, y_test = train_test_split(X, y, test_size, random_state = 0)"
   ]
  },
  {
   "cell_type": "code",
   "execution_count": 9,
   "metadata": {},
   "outputs": [],
   "source": [
    "# Scale the data to be between -1 and 1\n",
    "from sklearn.preprocessing import StandardScaler\n",
    "#write the missing line here\n",
    "X=scaler.fit_transform(X)\n",
    "X"
   ]
  },
  {
   "cell_type": "code",
   "execution_count": 10,
   "metadata": {},
   "outputs": [],
   "source": [
    "from sklearn.decomposition import PCA\n",
    "#write the missing line here\n",
    "pca.fit_transform(X)"
   ]
  },
  {
   "cell_type": "code",
   "execution_count": 11,
   "metadata": {},
   "outputs": [],
   "source": [
    "#pca.get_covariance()"
   ]
  },
  {
   "cell_type": "code",
   "execution_count": 12,
   "metadata": {},
   "outputs": [
    {
     "data": {
      "text/plain": [
       "array([0.22759689, 0.19239519, 0.13044173, 0.1243596 , 0.10166382,\n",
       "       0.08789696, 0.07756702, 0.03511623, 0.02296256])"
      ]
     },
     "execution_count": 12,
     "metadata": {},
     "output_type": "execute_result"
    }
   ],
   "source": [
    "explained_variance=pca.explained_variance_ratio_\n",
    "explained_variance"
   ]
  },
  {
   "cell_type": "code",
   "execution_count": 13,
   "metadata": {},
   "outputs": [
    {
     "data": {
      "text/plain": [
       "array([[ 0.6687109 , -0.50509846, -0.10743874, -1.41283472, -0.53594688],\n",
       "       [ 0.88840044, -0.60643616, -0.06260455, -1.48607316, -0.54043934],\n",
       "       [ 0.7718913 , -0.55859516, -0.08014325, -1.46910439, -0.53923669],\n",
       "       ...,\n",
       "       [-0.63524079, -1.71533188,  1.11764542, -0.14244622, -0.19866317],\n",
       "       [-0.80195686, -1.64566979,  1.091275  , -0.11369913, -0.19670135],\n",
       "       [-0.66692408, -1.70731218,  1.11815057, -0.15632461, -0.19933369]])"
      ]
     },
     "execution_count": 13,
     "metadata": {},
     "output_type": "execute_result"
    }
   ],
   "source": [
    "pca=PCA(n_components=5)\n",
    "X_new=pca.fit_transform(X)\n",
    "X_new"
   ]
  },
  {
   "cell_type": "code",
   "execution_count": 14,
   "metadata": {},
   "outputs": [
    {
     "data": {
      "text/plain": [
       "array([[ 1.10001654,  0.46849868, -0.15468171, -0.16063907, -0.03764211,\n",
       "         0.37170871,  0.18834917,  0.27603112, -0.07287558],\n",
       "       [ 0.46849868,  0.99924673, -0.01317322, -0.00972662,  0.0172804 ,\n",
       "         0.29669045, -0.01449876,  0.06663215, -0.06926927],\n",
       "       [-0.15468171, -0.01317322,  1.14803264,  0.64475609, -0.0645176 ,\n",
       "         0.02465262, -0.00755063, -0.02237854,  0.01920824],\n",
       "       [-0.16063907, -0.00972662,  0.64475609,  1.14910051, -0.0391494 ,\n",
       "         0.01452811, -0.01709238, -0.03637027,  0.01119622],\n",
       "       [-0.03764211,  0.0172804 , -0.0645176 , -0.0391494 ,  0.99148801,\n",
       "        -0.13214957, -0.02047991, -0.05407956, -0.09266313],\n",
       "       [ 0.37170871,  0.29669045,  0.02465262,  0.01452811, -0.13214957,\n",
       "         0.80384342,  0.09055438,  0.23472777,  0.08024244],\n",
       "       [ 0.18834917, -0.01449876, -0.00755063, -0.01709238, -0.02047991,\n",
       "         0.09055438,  0.91850576,  0.28315177, -0.19726346],\n",
       "       [ 0.27603112,  0.06663215, -0.02237854, -0.03637027, -0.05407956,\n",
       "         0.23472777,  0.28315177,  0.93183345,  0.13151861],\n",
       "       [-0.07287558, -0.06926927,  0.01920824,  0.01119622, -0.09266313,\n",
       "         0.08024244, -0.19726346,  0.13151861,  0.95807768]])"
      ]
     },
     "execution_count": 14,
     "metadata": {},
     "output_type": "execute_result"
    }
   ],
   "source": [
    "pca.get_covariance()"
   ]
  },
  {
   "cell_type": "code",
   "execution_count": 15,
   "metadata": {},
   "outputs": [
    {
     "data": {
      "text/plain": [
       "array([0.22759689, 0.19239519, 0.13044173, 0.1243596 , 0.10166382])"
      ]
     },
     "execution_count": 15,
     "metadata": {},
     "output_type": "execute_result"
    }
   ],
   "source": [
    "explained_variance=pca.explained_variance_ratio_\n",
    "explained_variance"
   ]
  },
  {
   "cell_type": "code",
   "execution_count": 16,
   "metadata": {},
   "outputs": [
    {
     "data": {
      "text/plain": [
       "(49747, 9)"
      ]
     },
     "execution_count": 16,
     "metadata": {},
     "output_type": "execute_result"
    }
   ],
   "source": [
    "#train / test split (70/30)\n",
    "from sklearn.model_selection import train_test_split\n",
    "X_train, X_test, y_train, y_test = train_test_split(X, y, test_size, random_state=1)\n",
    "X_train.shape"
   ]
  },
  {
   "cell_type": "code",
   "execution_count": 17,
   "metadata": {},
   "outputs": [],
   "source": [
    "# Establish model\n",
    "from sklearn.ensemble import RandomForestRegressor\n",
    "#Write missing line here"
   ]
  },
  {
   "cell_type": "code",
   "execution_count": 18,
   "metadata": {},
   "outputs": [
    {
     "name": "stdout",
     "output_type": "stream",
     "text": [
      "[0.9999946505622824, 0.999995511239143, 0.9999955784258836, 0.9999953247591565, 0.9999957282179863, 0.9999956073603192, 0.9999958118229926, 0.9999960555069142, 0.9999958099013698, 0.9999960867892076, 0.9999951078390412, 0.9999955469167736, 0.9999957807899207, 0.9999956815729936, 0.9999956245640483, 0.9999955662038431, 0.9999957539636102, 0.9999954514086148, 0.9999955336501195]\n"
     ]
    }
   ],
   "source": [
    "estimators = np.arange(10, 200, 10)\n",
    "scores = []\n",
    "for n in estimators:\n",
    "    model.set_params(n_estimators=n)\n",
    "    model.fit(X_train, y_train)\n",
    "    scores.append(model.score(X_test, y_test))\n",
    "print(scores) "
   ]
  },
  {
   "cell_type": "code",
   "execution_count": 19,
   "metadata": {},
   "outputs": [],
   "source": [
    "#plot a graph x-label = \"n-estimator\"\n",
    "# y-label = \"score\""
   ]
  }
 ],
 "metadata": {
  "kernelspec": {
   "display_name": "Python 3",
   "language": "python",
   "name": "python3"
  },
  "language_info": {
   "codemirror_mode": {
    "name": "ipython",
    "version": 3
   },
   "file_extension": ".py",
   "mimetype": "text/x-python",
   "name": "python",
   "nbconvert_exporter": "python",
   "pygments_lexer": "ipython3",
   "version": "3.8.3"
  }
 },
 "nbformat": 4,
 "nbformat_minor": 4
}
